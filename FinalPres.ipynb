{
 "metadata": {
  "name": "Group 9, Questionnaire Presentation"
 },
 "nbformat": 3,
 "nbformat_minor": 0,
 "worksheets": [
  {
   "cells": [
    {
     "cell_type": "heading",
     "level": 1,
     "metadata": {},
     "source": "<FONT COLOR=#0404B4>Findings: Learning Styles, Programming Language Proficiencies, and Class Experience</font>"
    },
    {
     "cell_type": "markdown",
     "metadata": {},
     "source": "<font size=\"5\">\nJoy Chen | Brian Liou | Eric Tsai <br>\nGroup 9 <br>\nStatistics 157\n</font>"
    },
    {
     "cell_type": "heading",
     "level": 2,
     "metadata": {},
     "source": "Set-Up and Data Importing"
    },
    {
     "cell_type": "markdown",
     "metadata": {},
     "source": "Import basic Python Libraries"
    },
    {
     "cell_type": "code",
     "collapsed": false,
     "input": "import os.path\nimport ConfigParser\nimport csv\nfrom IPython.display import Image",
     "language": "python",
     "metadata": {},
     "outputs": [],
     "prompt_number": 3
    },
    {
     "cell_type": "markdown",
     "metadata": {},
     "source": "Import Gspread <br>\n*Be sure to first install the gspread library on your virtual machine using: \n`sudo pip install gspread`"
    },
    {
     "cell_type": "code",
     "collapsed": false,
     "input": "import gspread",
     "language": "python",
     "metadata": {},
     "outputs": [],
     "prompt_number": 4
    },
    {
     "cell_type": "markdown",
     "metadata": {},
     "source": "Define take(n, iterable) which is a convenience function to limit the amount of output that you print. \nUseful when you have lots of data that will clutter up your screen!"
    },
    {
     "cell_type": "code",
     "collapsed": false,
     "input": "from itertools import islice\ndef take(n, iterable):\n    \"Return first n items of the iterable as a list\"\n    return list(islice(iterable, n))",
     "language": "python",
     "metadata": {},
     "outputs": []
    },
    {
     "cell_type": "markdown",
     "metadata": {},
     "source": "Read the username and password from the [google] section of the stat157.cfg config file from your virtual machine home directory."
    },
    {
     "cell_type": "code",
     "collapsed": false,
     "input": "home = os.path.expanduser(\"~\")\nconfigfile = os.path.join(home, 'stat157.cfg')\nconfig = ConfigParser.SafeConfigParser()\nconfig.read(configfile)\nusername = config.get('google', 'username')\npassword = config.get('google', 'password')\nprint username",
     "language": "python",
     "metadata": {},
     "outputs": [
      {
       "output_type": "stream",
       "stream": "stdout",
       "text": "erictsai@berkeley.edu\n"
      }
     ],
     "prompt_number": 5
    },
    {
     "cell_type": "markdown",
     "metadata": {},
     "source": "Read the docid of the Google Spreadsheet from the config file."
    },
    {
     "cell_type": "code",
     "collapsed": false,
     "input": "docid = config.get('questionnaire', 'docid')\nclient = gspread.login(username, password)\nspreadsheet = client.open_by_key(docid)\nworksheet = spreadsheet.get_worksheet(0)\nprint docid",
     "language": "python",
     "metadata": {},
     "outputs": [
      {
       "output_type": "stream",
       "stream": "stdout",
       "text": "0Aj1QXjQixf-SdENDS1FzR1FGNE1kLUk0WGR1SW5peVE\n"
      }
     ],
     "prompt_number": 6
    },
    {
     "cell_type": "markdown",
     "metadata": {},
     "source": "Add field names to this list to include the columns of interest from the Google Spreadsheet in the filtered data output. "
    },
    {
     "cell_type": "code",
     "collapsed": false,
     "input": "fieldnames = ['Timestamp','What is your learning style?', 'What is/are your career goal(s)?','What computer language(s) do you know?']\nprint fieldnames",
     "language": "python",
     "metadata": {},
     "outputs": [
      {
       "output_type": "stream",
       "stream": "stdout",
       "text": "['Timestamp', 'What is your learning style?', 'What is/are your career goal(s)?', 'What computer language(s) do you know?']\n"
      }
     ],
     "prompt_number": 41
    },
    {
     "cell_type": "markdown",
     "metadata": {},
     "source": "Read in ALL rows of data from the Google Spreadsheet, but filter out columns that are not listed in `fieldnames`."
    },
    {
     "cell_type": "code",
     "collapsed": false,
     "input": "filtered_data = []\nfor row in worksheet.get_all_records():\n    filtered_data.append({k:v for k,v in row.iteritems() if k in fieldnames})\nprint \"Number of rows: {}\".format(len(filtered_data))",
     "language": "python",
     "metadata": {},
     "outputs": [
      {
       "output_type": "stream",
       "stream": "stdout",
       "text": "Number of rows: 48\n"
      }
     ],
     "prompt_number": 43
    },
    {
     "cell_type": "markdown",
     "metadata": {},
     "source": "Use the convenience function `take()` to grab the data from filtered_data field and store in seperate list for data processes"
    },
    {
     "cell_type": "code",
     "collapsed": false,
     "input": "lan = []\nlearn = {}\nfor row in take(len(filtered_data), filtered_data):\n    learn.update({row['Timestamp']:row['What is your learning style?']})\n    lan.append(row['What computer language(s) do you know?'])\n",
     "language": "python",
     "metadata": {},
     "outputs": [],
     "prompt_number": 61
    },
    {
     "cell_type": "heading",
     "level": 2,
     "metadata": {},
     "source": "Data Parsing and \"Cleaning\" Process"
    },
    {
     "cell_type": "markdown",
     "metadata": {},
     "source": "Process languages by counting number of people that know the language. \n"
    },
    {
     "cell_type": "code",
     "collapsed": false,
     "input": "lan_dict = {}\n\nfor l in lan:\n    for a in l.split(','):\n        a=re.sub(r'[\\W]+', '', a)\n        if len(a) > 7:\n            continue\n        if a in lan_dict:\n            lan_dict[a] += 1\n        else:\n            lan_dict.update({a:1})",
     "language": "python",
     "metadata": {},
     "outputs": [
      {
       "output_type": "stream",
       "stream": "stdout",
       "text": "{'XML': 18, 'C': 25, 'PHP': 2, 'Java': 19, 'Scala': 1, 'Python': 20, 'Pascal': 1, 'Pig': 1, 'Unix': 1, 'HTML': 20, 'Matlab': 13, 'SQL': 1, 'R': 47, 'Scheme': 6, 'ruby': 1, 'CSS': 7}\n"
      }
     ],
     "prompt_number": 50
    },
    {
     "cell_type": "markdown",
     "metadata": {},
     "source": "Clean out career goal and learning style"
    },
    {
     "cell_type": "code",
     "collapsed": false,
     "input": "final = []\nfor key in learn.keys():\n    a=re.sub('\\n', ' ', learn[key])\n    m = re.search(r'Visual:(.*) \\d', a)\n    if m != None:\n        lst = [int(s) for s in m.group().split() if s.isdigit()]\n        final.append({'Timestamp' : key, 'Visual' : lst[0], 'Aural' : lst[1], 'Read_Write' : lst[2], 'Kinesthetic': lst[3]})\nprint final",
     "language": "python",
     "metadata": {},
     "outputs": [
      {
       "output_type": "stream",
       "stream": "stdout",
       "text": "[{'Kinesthetic': 5, 'Timestamp': '9/4/2013 21:59:34', 'Visual': 8, 'Aural': 7, 'Read_Write': 8}, {'Kinesthetic': 1, 'Timestamp': '9/4/2013 22:25:39', 'Visual': 10, 'Aural': 4, 'Read_Write': 5}, {'Kinesthetic': 5, 'Timestamp': '9/5/2013 16:41:20', 'Visual': 2, 'Aural': 3, 'Read_Write': 6}, {'Kinesthetic': 1, 'Timestamp': '9/4/2013 22:25:31', 'Visual': 13, 'Aural': 10, 'Read_Write': 8}, {'Kinesthetic': 4, 'Timestamp': '9/4/2013 23:48:06', 'Visual': 4, 'Aural': 3, 'Read_Write': 11}, {'Kinesthetic': 1, 'Timestamp': '9/4/2013 23:16:01', 'Visual': 10, 'Aural': 10, 'Read_Write': 2}, {'Kinesthetic': 1, 'Timestamp': '9/5/2013 0:34:26', 'Visual': 9, 'Aural': 8, 'Read_Write': 10}, {'Kinesthetic': 1, 'Timestamp': '9/30/2013 23:46:20', 'Visual': 7, 'Aural': 8, 'Read_Write': 9}, {'Kinesthetic': 7, 'Timestamp': '9/5/2013 0:20:20', 'Visual': 10, 'Aural': 7, 'Read_Write': 11}, {'Kinesthetic': 5, 'Timestamp': '9/26/2013 20:18:15', 'Visual': 9, 'Aural': 7, 'Read_Write': 5}, {'Kinesthetic': 1, 'Timestamp': '9/5/2013 0:12:55', 'Visual': 4, 'Aural': 4, 'Read_Write': 7}, {'Kinesthetic': 3, 'Timestamp': '9/4/2013 21:55:47', 'Visual': 9, 'Aural': 9, 'Read_Write': 3}, {'Kinesthetic': 5, 'Timestamp': '9/5/2013 9:58:54', 'Visual': 6, 'Aural': 5, 'Read_Write': 7}, {'Kinesthetic': 9, 'Timestamp': '9/5/2013 0:12:36', 'Visual': 11, 'Aural': 11, 'Read_Write': 6}, {'Kinesthetic': 8, 'Timestamp': '9/5/2013 0:42:52', 'Visual': 7, 'Aural': 11, 'Read_Write': 4}, {'Kinesthetic': 7, 'Timestamp': '9/4/2013 23:07:21', 'Visual': 3, 'Aural': 6, 'Read_Write': 6}, {'Kinesthetic': 9, 'Timestamp': '9/30/2013 22:02:12', 'Visual': 9, 'Aural': 10, 'Read_Write': 10}, {'Kinesthetic': 1, 'Timestamp': '9/5/2013 12:00:19', 'Visual': 12, 'Aural': 10, 'Read_Write': 13}, {'Kinesthetic': 5, 'Timestamp': '9/5/2013 9:43:34', 'Visual': 6, 'Aural': 4, 'Read_Write': 7}, {'Kinesthetic': 5, 'Timestamp': '9/4/2013 21:54:32', 'Visual': 0, 'Aural': 10, 'Read_Write': 14}, {'Kinesthetic': 8, 'Timestamp': '9/30/2013 22:31:25', 'Visual': 9, 'Aural': 11, 'Read_Write': 3}, {'Kinesthetic': 6, 'Timestamp': '9/4/2013 22:52:30', 'Visual': 5, 'Aural': 1, 'Read_Write': 4}, {'Kinesthetic': 1, 'Timestamp': '9/4/2013 22:36:10', 'Visual': 15, 'Aural': 9, 'Read_Write': 6}, {'Kinesthetic': 6, 'Timestamp': '9/5/2013 10:00:28', 'Visual': 5, 'Aural': 3, 'Read_Write': 9}, {'Kinesthetic': 7, 'Timestamp': '9/4/2013 21:48:39', 'Visual': 3, 'Aural': 5, 'Read_Write': 4}, {'Kinesthetic': 4, 'Timestamp': '10/1/2013 1:16:00', 'Visual': 2, 'Aural': 6, 'Read_Write': 4}, {'Kinesthetic': 7, 'Timestamp': '9/6/2013 22:17:11', 'Visual': 1, 'Aural': 4, 'Read_Write': 4}, {'Kinesthetic': 1, 'Timestamp': '9/5/2013 0:17:01', 'Visual': 9, 'Aural': 7, 'Read_Write': 10}, {'Kinesthetic': 5, 'Timestamp': '9/4/2013 22:09:21', 'Visual': 8, 'Aural': 1, 'Read_Write': 8}, {'Kinesthetic': 8, 'Timestamp': '9/4/2013 23:27:58', 'Visual': 4, 'Aural': 3, 'Read_Write': 1}]\n"
      }
     ],
     "prompt_number": 109
    },
    {
     "cell_type": "markdown",
     "metadata": {},
     "source": "Creates a .csv file called data.csv from cleaned data"
    },
    {
     "cell_type": "code",
     "collapsed": false,
     "input": "names = ['Timestamp', 'Visual', 'Aural','Read_Write','Kinesthetic']\nprint lan_dict.keys()\n\nf = open('data.csv', 'wb')\ndict_writer = csv.DictWriter(f, names, restval='NA')\ndict_writer.writeheader()\ndict_writer.writerows(final)\n\nf.close()",
     "language": "python",
     "metadata": {},
     "outputs": [
      {
       "output_type": "stream",
       "stream": "stdout",
       "text": "['XML', 'C', 'PHP', 'Java', 'Scala', 'Python', 'Pascal', 'Pig', 'Unix', 'HTML', 'Matlab', 'SQL', 'R', 'Scheme', 'ruby', 'CSS']\n"
      }
     ],
     "prompt_number": 122
    },
    {
     "cell_type": "code",
     "collapsed": false,
     "input": "a = []\na.append(lan_dict)\ng = open('data2.csv','wb')\ndict_writer1 = csv.DictWriter(g, lan_dict.keys(), restval='NA')\ndict_writer1.writeheader()\ndict_writer1.writerows(a)\n",
     "language": "python",
     "metadata": {},
     "outputs": [],
     "prompt_number": 126
    },
    {
     "cell_type": "markdown",
     "metadata": {},
     "source": "<h2>Visualizations</h2>\n<i><font size=\"4\">Note: All visualizations created using R</font></i>"
    },
    {
     "cell_type": "markdown",
     "metadata": {},
     "source": "&nbsp;&nbsp;&nbsp;&nbsp;<font size=\"4\"><b>Figure 1</b></font>\n<br>\n&nbsp;&nbsp;&nbsp;&nbsp;<font size=\"3\">Distribution of scores for each learning style for the class. <br>\n&nbsp;&nbsp;&nbsp;&nbsp;Visual learning had the highest average score while Kinesthetic had the lowest average</font>\n<br><br>\n&nbsp;&nbsp;&nbsp;&nbsp;<img src='https://github.com/joyyqchen/Group-9-Questionnaire-Project/raw/master/LearningStyleHistograms.png'/>"
    },
    {
     "cell_type": "markdown",
     "metadata": {},
     "source": "&nbsp;&nbsp;&nbsp;&nbsp;<font size=\"4\"><b>Figure 2</b></font>\n<br>\n&nbsp;&nbsp;&nbsp;&nbsp;<font size=\"3\">Programming language proficiencies\n<br>\n&nbsp;&nbsp;&nbsp;&nbsp;From the word graph below, it appears that students are most familiar with R and C\n</font>\n<br><br>\n&nbsp;&nbsp;&nbsp;&nbsp;<img src='https://github.com/joyyqchen/Group-9-Questionnaire-Project/raw/master/ProgramProficiencies.png'/>"
    },
    {
     "cell_type": "markdown",
     "metadata": {},
     "source": "<br>\n<br>\n<br>\n<br>\n<P align=right> Statistics 157 Questionnaire Data Wrangling Project | October 7, 2013"
    }
   ],
   "metadata": {}
  }
 ]
}